{
 "cells": [
  {
   "cell_type": "markdown",
   "metadata": {},
   "source": [
    "# Lección 06 - Ejercicio 04"
   ]
  },
  {
   "cell_type": "markdown",
   "metadata": {},
   "source": [
    "### Escriba un bucle `for` para contar el número de frutas que existen en `elementos_canasta`. Para identificar que elementos son frutas, use la lista `frutas`.\n",
    "\n",
    "Como recomendación utilice el metodo `items()`"
   ]
  },
  {
   "cell_type": "code",
   "execution_count": 1,
   "metadata": {},
   "outputs": [],
   "source": [
    "contador_frutas, contador_no_frutas = 0, 0\n",
    "elementos_canasta = {'manzanas': 4, 'naranjas': 19, 'papalotes': 3, 'sandwiches': 8}\n",
    "frutas = ['manzanas', 'naranjas', 'peras', 'duranzos', 'uvas', 'plátanos']"
   ]
  },
  {
   "cell_type": "code",
   "execution_count": null,
   "metadata": {},
   "outputs": [],
   "source": [
    "# Complemente el código\n",
    "for :\n",
    "    "
   ]
  },
  {
   "cell_type": "code",
   "execution_count": null,
   "metadata": {},
   "outputs": [],
   "source": [
    "print(\"El número de frutas es {}. Hay {} objetos que no son frutas.\".format(contador_frutas, contador_no_frutas))"
   ]
  }
 ],
 "metadata": {
  "kernelspec": {
   "display_name": "Python 3",
   "language": "python",
   "name": "python3"
  },
  "language_info": {
   "codemirror_mode": {
    "name": "ipython",
    "version": 3
   },
   "file_extension": ".py",
   "mimetype": "text/x-python",
   "name": "python",
   "nbconvert_exporter": "python",
   "pygments_lexer": "ipython3",
   "version": "3.7.6"
  }
 },
 "nbformat": 4,
 "nbformat_minor": 4
}
