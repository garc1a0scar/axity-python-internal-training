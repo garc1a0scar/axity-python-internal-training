{
 "cells": [
  {
   "cell_type": "markdown",
   "metadata": {},
   "source": [
    "# Lección 06 - Ejercicio 03"
   ]
  },
  {
   "cell_type": "markdown",
   "metadata": {},
   "source": [
    "### 1. Use un bucle `for` para tomar una lista e imprimir cada elemento en líneas separadas (salto de línea).\n",
    "\n",
    "\n",
    "La salida debería verse así:\n",
    "\n",
    "`el\n",
    "veloz\n",
    "zorro\n",
    "café\n",
    "saltó\n",
    "sobre\n",
    "el\n",
    "perro\n",
    "perezoso`"
   ]
  },
  {
   "cell_type": "code",
   "execution_count": 2,
   "metadata": {},
   "outputs": [],
   "source": [
    "oracion = [\"el\", \"veloz\", \"zorro\", \"café\", \"saltó\", \"sobre\", \"el\", \"perro\", \"perezoso\"]"
   ]
  },
  {
   "cell_type": "code",
   "execution_count": null,
   "metadata": {},
   "outputs": [],
   "source": [
    "# Complemente el código\n",
    "for palabra in oracion:\n",
    "    "
   ]
  },
  {
   "cell_type": "markdown",
   "metadata": {},
   "source": [
    "### 2. Escriba un bucle `for` que imprima múltiplos de 5, que sean menores o iguales a 30.\n",
    "\n",
    "La salida debería verse como sigue:\n",
    "\n",
    "`5\n",
    "10\n",
    "15\n",
    "20\n",
    "25\n",
    "30`"
   ]
  },
  {
   "cell_type": "code",
   "execution_count": null,
   "metadata": {},
   "outputs": [],
   "source": [
    "# Complemente el código\n",
    "for i in:\n",
    "    "
   ]
  },
  {
   "cell_type": "markdown",
   "metadata": {},
   "source": [
    "### 3. Escriba un bucle que tome la lista `nombres` y construya los nombres de usuario, por ejemplo `joey.tribbiani`\n",
    "\n",
    "La salida debería verse así:\n",
    "\n",
    "`['joey_tribbiani', 'monica_geller', 'chandler_bing', 'phoebe_buffay']`"
   ]
  },
  {
   "cell_type": "code",
   "execution_count": null,
   "metadata": {},
   "outputs": [],
   "source": [
    "nombres = [\"Joey Tribbiani\", \"Monica Geller\", \"Chandler Bing\", \"Phoebe Buffay\"]\n",
    "usuarios = []"
   ]
  },
  {
   "cell_type": "code",
   "execution_count": null,
   "metadata": {},
   "outputs": [],
   "source": [
    "# Complemente el código\n",
    "for i in :\n",
    "    "
   ]
  },
  {
   "cell_type": "code",
   "execution_count": null,
   "metadata": {},
   "outputs": [],
   "source": [
    "print(usuarios)"
   ]
  },
  {
   "cell_type": "markdown",
   "metadata": {},
   "source": [
    "### 4. Ahora realice el mismo procedimiento que el punto 3, pero modificando la lista `nombres2` y usando `range()`"
   ]
  },
  {
   "cell_type": "code",
   "execution_count": null,
   "metadata": {},
   "outputs": [],
   "source": [
    "nombres2 = [\"Joey Tribbiani\", \"Monica Geller\", \"Chandler Bing\", \"Phoebe Buffay\"]"
   ]
  },
  {
   "cell_type": "code",
   "execution_count": null,
   "metadata": {},
   "outputs": [],
   "source": [
    "# Complemente el código\n",
    "for i in :\n",
    "    "
   ]
  },
  {
   "cell_type": "code",
   "execution_count": null,
   "metadata": {},
   "outputs": [],
   "source": [
    "print(nombres2)"
   ]
  }
 ],
 "metadata": {
  "kernelspec": {
   "display_name": "Python 3",
   "language": "python",
   "name": "python3"
  },
  "language_info": {
   "codemirror_mode": {
    "name": "ipython",
    "version": 3
   },
   "file_extension": ".py",
   "mimetype": "text/x-python",
   "name": "python",
   "nbconvert_exporter": "python",
   "pygments_lexer": "ipython3",
   "version": "3.7.6"
  }
 },
 "nbformat": 4,
 "nbformat_minor": 4
}
