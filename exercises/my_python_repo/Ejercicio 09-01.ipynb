{
 "cells": [
  {
   "cell_type": "markdown",
   "metadata": {},
   "source": [
    "# Lección 09 - Ejercicio 01"
   ]
  },
  {
   "cell_type": "markdown",
   "metadata": {},
   "source": [
    "### Imagine que es un maestro, que necesita enviar un mensaje a cada uno de sus alumnos, para recordarles sus tareas faltantes y su calificación en la clase. Tiene cada uno de sus nombres, número de tareas faltantes y calificaciones en una hoja de cálculo y solo tiene que insertarlos en los marcadores de este mensaje que se le ocurrió:\n",
    "\n",
    "\n",
    "    Hola [nombre_estudiante],\n",
    "\n",
    "    Este es un recordatorio de que tiene [tareas faltantes] tareas por entregar, antes de que pueda graduarse. Su calificación actual es [calificacion] y puede incrementarse a [calificacion potencial] si entrega todas sus tareas antes de la fecha límite.\n",
    "    \n",
    "### Cada tarea cuenta 2 dos puntos.\n",
    "\n",
    "### Escriba un programa que solicite la entrada de usuario 3 veces. Una vez para obtener una lista de nombres, otra para obtener una lista del número de tareas faltantes y una última para obtener la lista de calificaciones. Use estas entradas para crear listas de nombres, tareas y calificaciones."
   ]
  },
  {
   "cell_type": "markdown",
   "metadata": {},
   "source": [
    "### El programa debería comportarse de la siguiente forma:\n",
    "\n",
    "```\n",
    "Capture los nombres separados por comas: Roger, Gerard, Alex, Will\n",
    "Capture el número de tareas faltantes separados por comas: 3, 6, 0, 2\n",
    "Capture las calificaciones separadas por comas: 81, 77, 92, 88\n",
    "\n",
    "Hola Roger,\n",
    "\n",
    "Este es un recordatorio de que tiene 3 tareas por entregar, antes de que pueda graduarse. Su calificación actual es 81 y puede incrementarse a 87 si entrega todas sus tareas antes de la fecha límite.\n",
    "\n",
    "\n",
    "Hola Gerard,\n",
    "\n",
    "Este es un recordatorio de que tiene 6 tareas por entregar, antes de que pueda graduarse. Su calificación actual es 77 y puede incrementarse a 89 si entrega todas sus tareas antes de la fecha límite.\n",
    "\n",
    "\n",
    "Hola Alex,\n",
    "\n",
    "Este es un recordatorio de que tiene 0 tareas por entregar, antes de que pueda graduarse. Su calificación actual es 92 y puede incrementarse a 92 si entrega todas sus tareas antes de la fecha límite.\n",
    "\n",
    "\n",
    "Hola Will,\n",
    "\n",
    "Este es un recordatorio de que tiene 2 tareas por entregar, antes de que pueda graduarse. Su calificación actual es 88 y puede incrementarse a 92 si entrega todas sus tareas antes de la fecha límite.\n",
    "```"
   ]
  },
  {
   "cell_type": "markdown",
   "metadata": {},
   "source": [
    "### Use el archivo template `ejercicio_09_01.py`"
   ]
  },
  {
   "cell_type": "code",
   "execution_count": null,
   "metadata": {},
   "outputs": [],
   "source": []
  }
 ],
 "metadata": {
  "kernelspec": {
   "display_name": "Python 3",
   "language": "python",
   "name": "python3"
  },
  "language_info": {
   "codemirror_mode": {
    "name": "ipython",
    "version": 3
   },
   "file_extension": ".py",
   "mimetype": "text/x-python",
   "name": "python",
   "nbconvert_exporter": "python",
   "pygments_lexer": "ipython3",
   "version": "3.7.6"
  }
 },
 "nbformat": 4,
 "nbformat_minor": 4
}
