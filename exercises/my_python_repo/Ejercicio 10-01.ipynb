{
 "cells": [
  {
   "cell_type": "markdown",
   "metadata": {},
   "source": [
    "# Arreglos Numpy"
   ]
  },
  {
   "cell_type": "markdown",
   "metadata": {},
   "source": [
    "### Importar módulo numpy"
   ]
  },
  {
   "cell_type": "code",
   "execution_count": null,
   "metadata": {},
   "outputs": [],
   "source": [
    "import numpy as np"
   ]
  },
  {
   "cell_type": "markdown",
   "metadata": {},
   "source": [
    "### Crear un arreglo numpy"
   ]
  },
  {
   "cell_type": "code",
   "execution_count": null,
   "metadata": {},
   "outputs": [],
   "source": [
    "# Se crea un arreglo de 1 dimensión (1D), que contiene solamente enteros\n",
    "x = np.array([1, 2, 3, 4, 5])\n",
    "\n",
    "# Se imprime el arreglo creado, utilizando el comando print()\n",
    "print('x = ', x)"
   ]
  },
  {
   "cell_type": "markdown",
   "metadata": {},
   "source": [
    "### Descripción de un arreglo simple"
   ]
  },
  {
   "cell_type": "code",
   "execution_count": null,
   "metadata": {},
   "outputs": [],
   "source": [
    "# Se crea un arreglo de rango 1, que contiene solamente cadenas de caracteres\n",
    "x = np.array(['Hola', 'Mundo'])\n",
    "\n",
    "# Se imprime x\n",
    "print()\n",
    "print('x = ', x)\n",
    "print()\n",
    "\n",
    "# Se imprime la información sobre x\n",
    "print('x tiene las siguientes dimensiones:', x.shape)\n",
    "print('x es un objeto de tipo:', type(x))\n",
    "print('Los elementos dentro de x son de tipo:', x.dtype)"
   ]
  },
  {
   "cell_type": "markdown",
   "metadata": {},
   "source": [
    "### Descripción de un arreglo multidimensional"
   ]
  },
  {
   "cell_type": "code",
   "execution_count": null,
   "metadata": {},
   "outputs": [],
   "source": [
    "# Se crea un arreglo de rango 2, que contiene solamente enteros\n",
    "Y = np.array([[1,2,3],[4,5,6],[7,8,9], [10,11,12]])\n",
    "\n",
    "# Se imprime Y\n",
    "print()\n",
    "print('Y = \\n', Y)\n",
    "print()\n",
    "\n",
    "# Se imprime la información sobre Y\n",
    "print('Y tiene las siguientes dimensiones:', Y.shape)\n",
    "print('Y tiene un total de', Y.size, 'elementos')\n",
    "print('Y es un objeto de tipo:', type(Y))\n",
    "print('Los elementos dentro de Y son de tipo:', Y.dtype)"
   ]
  },
  {
   "cell_type": "markdown",
   "metadata": {},
   "source": [
    "# Accesar, Borrar e Insertar Elementos en arreglos"
   ]
  },
  {
   "cell_type": "markdown",
   "metadata": {},
   "source": [
    "### Accesar un arreglo simple"
   ]
  },
  {
   "cell_type": "code",
   "execution_count": null,
   "metadata": {},
   "outputs": [],
   "source": [
    "# Se crea un arreglo de rango 1, que contiene solamente enteros del 1 al 5\n",
    "x = np.array([1, 2, 3, 4, 5])\n",
    "\n",
    "# Se imprime x\n",
    "print()\n",
    "print('x = ', x)\n",
    "print()\n",
    "\n",
    "# Se accesan algunos de los elementos, utilizando índices positivos\n",
    "print('Este es el primer elemento de x:', x[0]) \n",
    "print('Este es el segundo elemento de x:', x[1])\n",
    "print('Este es el quinto (último) elemento de x:', x[4])\n",
    "print()\n",
    "\n",
    "# Se accesan los mismos elementos, utilizando índices negativos\n",
    "print('Este es el primer elemento de x:', x[-5])\n",
    "print('Este es el segundo elemento de x:', x[-4])\n",
    "print('Este es el quinto (último) elemento de x:', x[-1])"
   ]
  },
  {
   "cell_type": "markdown",
   "metadata": {},
   "source": [
    "### Accesar un arreglo multidimensional"
   ]
  },
  {
   "cell_type": "code",
   "execution_count": null,
   "metadata": {},
   "outputs": [],
   "source": [
    "# Se crea un arreglo 3 x 3 de rango 2, que contiene solamente enteros del 1 al 9\n",
    "X = np.array([[1,2,3],[4,5,6],[7,8,9]])\n",
    "\n",
    "# Se imprime X\n",
    "print()\n",
    "print('X = \\n', X)\n",
    "print()\n",
    "\n",
    "# Se accesan algunos elementos en X\n",
    "print('Este es el elemento (0,0) en X:', X[0,0])\n",
    "print('Este es el elemento (0,1) en X:', X[0,1])\n",
    "print('Este es el elemento (2,2) en X:', X[2,2])"
   ]
  },
  {
   "cell_type": "markdown",
   "metadata": {},
   "source": [
    "### Borrar un elemento del arreglo"
   ]
  },
  {
   "cell_type": "code",
   "execution_count": null,
   "metadata": {},
   "outputs": [],
   "source": [
    "# Se crea un arreglo de rango 1\n",
    "x = np.array([1, 2, 3, 4, 5])\n",
    "\n",
    "# Se crea un arreglo de rango 2\n",
    "Y = np.array([[1,2,3],[4,5,6],[7,8,9]])\n",
    "\n",
    "# Se imprime x\n",
    "print()\n",
    "print('x original = ', x)\n",
    "\n",
    "# Se borran el primer y el último elemento de x\n",
    "x = np.delete(x, [0,4])\n",
    "\n",
    "# Se imprime x con el primer y el último elementos borrados\n",
    "print()\n",
    "print('x modificado = ', x)\n",
    "\n",
    "# Se imprime Y\n",
    "print()\n",
    "print('Y original = \\n', Y)\n",
    "\n",
    "# Se borra el primer renglón de Y\n",
    "w = np.delete(Y, 0, axis=0)\n",
    "\n",
    "# Se borran la primera y la última columna de Y\n",
    "v = np.delete(Y, [0,2], axis=1)\n",
    "\n",
    "# Se imprime w\n",
    "print()\n",
    "print('w = \\n', w)\n",
    "\n",
    "# Se imprime v\n",
    "print()\n",
    "print('v = \\n', v)"
   ]
  },
  {
   "cell_type": "markdown",
   "metadata": {},
   "source": [
    "### Agregar elementos"
   ]
  },
  {
   "cell_type": "code",
   "execution_count": null,
   "metadata": {},
   "outputs": [],
   "source": [
    "# Se crea un arreglo de rango 1\n",
    "x = np.array([1, 2, 3, 4, 5])\n",
    "\n",
    "# Se crea un arreglo de rango 2\n",
    "Y = np.array([[1,2,3],[4,5,6]])\n",
    "\n",
    "# Se imprime x\n",
    "print()\n",
    "print('x original = ', x)\n",
    "\n",
    "# Se agrega el entero 6 a x\n",
    "x = np.append(x, 6)\n",
    "\n",
    "# se imprime x\n",
    "print()\n",
    "print('x = ', x)\n",
    "\n",
    "# Se agregan los enteros 7 y 8 a x\n",
    "x = np.append(x, [7,8])\n",
    "\n",
    "# Se imprime x\n",
    "print()\n",
    "print('x = ', x)\n",
    "\n",
    "# Se imprime Y\n",
    "print()\n",
    "print('Y original = \\n', Y)\n",
    "\n",
    "# Se agrega un nuevo renglón que contiene 7, 8, 9 a Y\n",
    "v = np.append(Y, [[7,8,9]], axis=0)\n",
    "\n",
    "# Se agrega una nueva columna que contiene 9, 10 a Y\n",
    "q = np.append(Y,[[9],[10]], axis=1)\n",
    "\n",
    "# Se imprime v\n",
    "print()\n",
    "print('v = \\n', v)\n",
    "\n",
    "# Se imprime q\n",
    "print()\n",
    "print('q = \\n', q)"
   ]
  },
  {
   "cell_type": "markdown",
   "metadata": {},
   "source": [
    "### Insertar elementos"
   ]
  },
  {
   "cell_type": "code",
   "execution_count": null,
   "metadata": {},
   "outputs": [],
   "source": [
    "# Se crea un arreglo de rango 1\n",
    "x = np.array([1, 2, 5, 6, 7])\n",
    "\n",
    "# Se crea una rreglo de rango 2\n",
    "Y = np.array([[1,2,3],[7,8,9]])\n",
    "\n",
    "# Se imprime x\n",
    "print()\n",
    "print('x original = ', x)\n",
    "\n",
    "# Se insertan los enteros 3 y 4 entre 2 y 5 en x\n",
    "x = np.insert(x,2,[3,4])\n",
    "\n",
    "# Se imprime x con los elementos insertados\n",
    "print()\n",
    "print('x = ', x)\n",
    "\n",
    "# Se imprime Y\n",
    "print()\n",
    "print('Y original = \\n', Y)\n",
    "\n",
    "# Se inserta un renglón entre el primer y el últmo renglón de Y\n",
    "w = np.insert(Y,1,[4,5,6],axis=0)\n",
    "\n",
    "# Se inserta una columna llena de 5s, entre la primera y la segunda columna de Y\n",
    "v = np.insert(Y,1,5, axis=1)\n",
    "\n",
    "# Se imprime w\n",
    "print()\n",
    "print('w = \\n', w)\n",
    "\n",
    "# Se imprime v\n",
    "print()\n",
    "print('v = \\n', v)"
   ]
  },
  {
   "cell_type": "code",
   "execution_count": null,
   "metadata": {},
   "outputs": [],
   "source": []
  }
 ],
 "metadata": {
  "kernelspec": {
   "display_name": "Python 3",
   "language": "python",
   "name": "python3"
  },
  "language_info": {
   "codemirror_mode": {
    "name": "ipython",
    "version": 3
   },
   "file_extension": ".py",
   "mimetype": "text/x-python",
   "name": "python",
   "nbconvert_exporter": "python",
   "pygments_lexer": "ipython3",
   "version": "3.7.6"
  }
 },
 "nbformat": 4,
 "nbformat_minor": 4
}
