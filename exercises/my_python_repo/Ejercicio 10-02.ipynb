{
 "cells": [
  {
   "cell_type": "markdown",
   "metadata": {},
   "source": [
    "# Series pandas"
   ]
  },
  {
   "cell_type": "markdown",
   "metadata": {},
   "source": [
    "### Importar el módulo pandas"
   ]
  },
  {
   "cell_type": "code",
   "execution_count": null,
   "metadata": {},
   "outputs": [],
   "source": [
    "import pandas as pd"
   ]
  },
  {
   "cell_type": "markdown",
   "metadata": {},
   "source": [
    "### Crear una serie pandas"
   ]
  },
  {
   "cell_type": "code",
   "execution_count": null,
   "metadata": {},
   "outputs": [],
   "source": [
    "# Se crea una serie pandas que almacena una lista de compras\n",
    "compras = pd.Series(data = [30, 6, 'Si', 'No'], index = ['huevos', 'manzanas', 'leche', 'pan'])\n",
    "\n",
    "# Se despliega la serie pandas\n",
    "compras"
   ]
  },
  {
   "cell_type": "markdown",
   "metadata": {},
   "source": [
    "### Descripción de una serie pandas"
   ]
  },
  {
   "cell_type": "code",
   "execution_count": null,
   "metadata": {},
   "outputs": [],
   "source": [
    "# Se imprime parte de la información de la serie\n",
    "print('Compras tiene la forma:', compras.shape)\n",
    "print('Compras tiene las siguientes dimensiones:', compras.ndim)\n",
    "print('Compras tiene un total de', compras.size, 'elementos')\n",
    "\n",
    "# Se imprimen el índice y los datos de la serie\n",
    "print('Los datos en Compras son:', compras.values)\n",
    "print('El índice en Compras es:', compras.index)"
   ]
  },
  {
   "cell_type": "markdown",
   "metadata": {},
   "source": [
    "### Encontrar valores en series pandas"
   ]
  },
  {
   "cell_type": "code",
   "execution_count": null,
   "metadata": {},
   "outputs": [],
   "source": [
    "# Se verifica si platanos es un alimento (un índice) dentro de compras\n",
    "x = 'plátanos' in compras\n",
    "\n",
    "# Se verifica si pan es un alimento (un índice) dentro de compras\n",
    "y = 'pan' in compras\n",
    "\n",
    "# Se imprimen los resultados\n",
    "print('Los plátanos se encuentran dentro del índice en Compras:', x)\n",
    "print('El pan se encuentra dentro del índice en Compras:', y)"
   ]
  },
  {
   "cell_type": "markdown",
   "metadata": {},
   "source": [
    "# Accesar, Borrar e Insertar Elementos en series pandas"
   ]
  },
  {
   "cell_type": "markdown",
   "metadata": {},
   "source": [
    "### Accesar una serie pandas"
   ]
  },
  {
   "cell_type": "code",
   "execution_count": null,
   "metadata": {},
   "outputs": [],
   "source": [
    "# Se accesan los elementos dentro de compras, utilizando las etiquetas de los índices:\n",
    "\n",
    "# Se utiliza una sola etiqueta de índice\n",
    "print('¿Cuántos huevos necesitamos comprar?:', compras['huevos'])\n",
    "print()\n",
    "\n",
    "# Se pueden utilizar varias etiquetas de índice\n",
    "print('¿Cuánta leche y pan necesitamos comprar?:\\n', compras[['leche', 'pan']]) \n",
    "print()\n",
    "\n",
    "# Se utiliza loc para accesar varias etiquetas de índice\n",
    "print('¿Cuántos huevos y manzanas necesitamos comprar?:\\n', compras.loc[['huevos', 'manzanas']]) \n",
    "print()\n",
    "\n",
    "\n",
    "# Se accesan los elementos en compras, utilizando índices numéricos:\n",
    "\n",
    "# Se utilizan varios índices numéricos\n",
    "print('¿Cuántos huevos y manzanas necesitamos comprar?:\\n', compras[[0, 1]]) \n",
    "print()\n",
    "\n",
    "# Se utilizan índices numéricos negativos\n",
    "print('¿Cuánto pan necesitamos comprar?:\\n', compras[[-1]]) \n",
    "print()\n",
    "\n",
    "# Se utiliza un solo índice numérico\n",
    "print('¿Cuántos huevos necesitamos comprar?:', compras[0]) \n",
    "print()\n",
    "\n",
    "# Se utiliza iloc para accesar varios índices numéricos:\n",
    "print('¿Cuánta leche y pan necesitamos comprar?:\\n', compras.iloc[[2, 3]]) "
   ]
  },
  {
   "cell_type": "markdown",
   "metadata": {},
   "source": [
    "### Borrar un elemento del arreglo, sin modificarlo"
   ]
  },
  {
   "cell_type": "code",
   "execution_count": null,
   "metadata": {},
   "outputs": [],
   "source": [
    "# Se despliega la serie original\n",
    "print('Lista de compras original:\\n', compras)\n",
    "\n",
    "# Se borran las manzanas de la serue. La función drop remueve los elementos de la serie y regresa una copia, dejando la serie original intacta\n",
    "print()\n",
    "print('Se remueven las manzanas:\\n', compras.drop('manzanas'))\n",
    "\n",
    "# Se despliega nuevamente la serie\n",
    "print()\n",
    "print('Lista de compras después del drop (default):\\n', compras)"
   ]
  },
  {
   "cell_type": "markdown",
   "metadata": {},
   "source": [
    "### Borrar un elemento del arreglo, modificándolo"
   ]
  },
  {
   "cell_type": "code",
   "execution_count": null,
   "metadata": {},
   "outputs": [],
   "source": [
    "# Se despliega la serie original\n",
    "print('Lista de compras original:\\n', compras)\n",
    "\n",
    "# Se borran las manzanas de la serie, especificando el parámetro inplace, para indicar que se deberá modificar la serie original\n",
    "# Si no se especifica el parámetro inplace, por omisión su valor es False\n",
    "compras.drop('manzanas', inplace = True)\n",
    "\n",
    "# Se despliega nuevamente la serie\n",
    "print()\n",
    "print('Lista de compras después del drop (in place):\\n', compras)"
   ]
  },
  {
   "cell_type": "code",
   "execution_count": null,
   "metadata": {},
   "outputs": [],
   "source": []
  }
 ],
 "metadata": {
  "kernelspec": {
   "display_name": "Python 3",
   "language": "python",
   "name": "python3"
  },
  "language_info": {
   "codemirror_mode": {
    "name": "ipython",
    "version": 3
   },
   "file_extension": ".py",
   "mimetype": "text/x-python",
   "name": "python",
   "nbconvert_exporter": "python",
   "pygments_lexer": "ipython3",
   "version": "3.7.6"
  }
 },
 "nbformat": 4,
 "nbformat_minor": 4
}
