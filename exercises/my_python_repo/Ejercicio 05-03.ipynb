{
 "cells": [
  {
   "cell_type": "markdown",
   "metadata": {},
   "source": [
    "# Lección 05 - Ejercicio 03"
   ]
  },
  {
   "cell_type": "markdown",
   "metadata": {},
   "source": [
    "### Agregar una nueva entrada a un diccionario"
   ]
  },
  {
   "cell_type": "markdown",
   "metadata": {},
   "source": [
    "1. Defina el siguiente diccionario:"
   ]
  },
  {
   "cell_type": "code",
   "execution_count": 1,
   "metadata": {},
   "outputs": [],
   "source": [
    "elementos = {'hidrogeno': {'numero': 1, 'peso': 1.00794, 'simbolo': 'H'},\n",
    "             'helio': {'numero': 2, 'peso': 4.002602, 'simbolo': 'He'}}"
   ]
  },
  {
   "cell_type": "markdown",
   "metadata": {},
   "source": [
    "2. Agregue la entrada `es_gas_noble` a cada diccionario en el diccionario `elementos`, de tal forma que al acceder a sus valores se vean de la siguiente manera:\n",
    "\n",
    "```py\n",
    ">>> print(elementos['hidrogeno']['es_gas_noble'])\n",
    "False\n",
    ">>> print(elementos['helio']['es_gas_noble'])\n",
    "True\n",
    "```"
   ]
  },
  {
   "cell_type": "code",
   "execution_count": null,
   "metadata": {},
   "outputs": [],
   "source": [
    "# Agregue su código aquí\n"
   ]
  },
  {
   "cell_type": "code",
   "execution_count": null,
   "metadata": {},
   "outputs": [],
   "source": [
    "print(elementos['hidrogeno']['es_gas_noble'])"
   ]
  },
  {
   "cell_type": "code",
   "execution_count": null,
   "metadata": {},
   "outputs": [],
   "source": [
    "print(elementos['helio']['es_gas_noble'])"
   ]
  }
 ],
 "metadata": {
  "kernelspec": {
   "display_name": "Python 3",
   "language": "python",
   "name": "python3"
  },
  "language_info": {
   "codemirror_mode": {
    "name": "ipython",
    "version": 3
   },
   "file_extension": ".py",
   "mimetype": "text/x-python",
   "name": "python",
   "nbconvert_exporter": "python",
   "pygments_lexer": "ipython3",
   "version": "3.7.6"
  }
 },
 "nbformat": 4,
 "nbformat_minor": 4
}
