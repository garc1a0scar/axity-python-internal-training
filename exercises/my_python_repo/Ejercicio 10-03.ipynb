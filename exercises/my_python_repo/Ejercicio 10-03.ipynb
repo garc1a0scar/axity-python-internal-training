{
 "cells": [
  {
   "cell_type": "markdown",
   "metadata": {},
   "source": [
    "# Dataframes Pandas"
   ]
  },
  {
   "cell_type": "markdown",
   "metadata": {},
   "source": [
    "### Importar el módulo pandas"
   ]
  },
  {
   "cell_type": "code",
   "execution_count": null,
   "metadata": {},
   "outputs": [],
   "source": [
    "import pandas as pd"
   ]
  },
  {
   "cell_type": "markdown",
   "metadata": {},
   "source": [
    "### Crear un dataframe pandas"
   ]
  },
  {
   "cell_type": "code",
   "execution_count": null,
   "metadata": {},
   "outputs": [],
   "source": [
    "# Se crea una serie pandas, que contiene una lista de compras\n",
    "compras = pd.Series(data = [30, 6, 'Si', 'No'], index = ['huevos', 'manzanas', 'leche', 'pan'])\n",
    "\n",
    "# Se despliega la serie pandas\n",
    "compras"
   ]
  },
  {
   "cell_type": "code",
   "execution_count": null,
   "metadata": {},
   "outputs": [],
   "source": [
    "# Se crea un dataframe pandas, enviando el diccionario de la serie pandas\n",
    "articulos = {'articulo': compras}\n",
    "carrito = pd.DataFrame(articulos)\n",
    "\n",
    "# Se despliega el dataframe\n",
    "carrito"
   ]
  },
  {
   "cell_type": "markdown",
   "metadata": {},
   "source": [
    "### Describir un dataframe pandas"
   ]
  },
  {
   "cell_type": "code",
   "execution_count": null,
   "metadata": {},
   "outputs": [],
   "source": [
    "# Se imprime parte de la información del carrito de compras\n",
    "print('carrito tiene la forma:', carrito.shape)\n",
    "print('carrito tiene las siguientes dimensiones:', carrito.ndim)\n",
    "print('carrito tiene un total de:', carrito_carts.size, 'elementos')\n",
    "print()\n",
    "print('Los datos del carrito son:\\n', carrito.values)\n",
    "print()\n",
    "print('Los índices de los renglones en carrito son:', carrito.index)\n",
    "print()\n",
    "print('Los índices de las columnas en carrito son:', carrito.columns)"
   ]
  },
  {
   "cell_type": "markdown",
   "metadata": {},
   "source": [
    "### Obtener una rebanada de un dataframe pandas"
   ]
  },
  {
   "cell_type": "code",
   "execution_count": null,
   "metadata": {},
   "outputs": [],
   "source": [
    "# Se crea un dataframe, a partir de un diccionario\n",
    "datos = {'Juan' : pd.Series([245, 25, 55]),\n",
    "         'Alicia' : pd.Series([40, 110, 500, 45])}\n",
    "\n",
    "# Se crea un dataframe\n",
    "df = pd.DataFrame(datos)\n",
    "\n",
    "# Se despliega el dataframe\n",
    "df"
   ]
  },
  {
   "cell_type": "code",
   "execution_count": null,
   "metadata": {},
   "outputs": [],
   "source": [
    "# Se crea un dataframe que contenga solamente los datos de Juan\n",
    "carrito_juan = pd.DataFrame(datos, columns=['Juan'])\n",
    "\n",
    "# Se despliega el carrito de Juan\n",
    "carrito_juan"
   ]
  },
  {
   "cell_type": "code",
   "execution_count": null,
   "metadata": {},
   "outputs": [],
   "source": [
    "# Se crea un dataframe que contenga solamente los datos de Alicia, de los renglones 1 y 2\n",
    "carrito_alicia = pd.DataFrame(datos, index = ['1', '2'], columns = ['Alicia'])\n",
    "\n",
    "# We display alice_sel_shopping_cart\n",
    "carrito_alicia"
   ]
  },
  {
   "cell_type": "markdown",
   "metadata": {},
   "source": [
    "# Accesar, Agregar y Borrar en un dataframe pandas"
   ]
  },
  {
   "cell_type": "markdown",
   "metadata": {},
   "source": [
    "### Accesar un dataframe pandas"
   ]
  },
  {
   "cell_type": "code",
   "execution_count": null,
   "metadata": {},
   "outputs": [],
   "source": [
    "# Se crea una lista de diccionarios\n",
    "articulos = [{'bicicletas': 20, 'pantalones': 30, 'relojes': 35}, \n",
    "             {'relojes': 10, 'anteojos': 50, 'bicicletas': 15, 'pantalones':5}]\n",
    "\n",
    "# Se crea un dataframe y se proporciona el indice para los renglones\n",
    "articulos_en_tienda = pd.DataFrame(articulos, index = ['tienda 1', 'tienda 2'])\n",
    "\n",
    "# Se despliega el dataframe\n",
    "articulos_en_tienda"
   ]
  },
  {
   "cell_type": "code",
   "execution_count": null,
   "metadata": {},
   "outputs": [],
   "source": [
    "# Se imprimen el dataframe articulos_en_tienda\n",
    "print(articulos_en_tienda)\n",
    "\n",
    "# Se accesan los renglones, las columnas y los elemntos, utilizando etiquetas\n",
    "print()\n",
    "print('¿Cuántas bicicletas hay en cada tienda?:\\n', articulos_en_tienda[['bicicletas']])\n",
    "print()\n",
    "print('¿Cuántas bicicletas y pantalones hay en cada tienda?:\\n', articulos_en_tienda[['bicicletas', 'pantalones']])\n",
    "print()\n",
    "print('¿Qué artículos hay en la Tienda 1?:\\n', articulos_en_tienda.loc[['tienda 1']])\n",
    "print()\n",
    "print('¿Cuántas bicicletas hay en la Tienda 2?:', articulos_en_tienda['bicicletas']['tienda 2'])"
   ]
  },
  {
   "cell_type": "markdown",
   "metadata": {},
   "source": [
    "### Agregar en un dataframe pandas"
   ]
  },
  {
   "cell_type": "code",
   "execution_count": null,
   "metadata": {},
   "outputs": [],
   "source": [
    "# Se crea un diccionario a partir de una lista de diccionarios, con el número de artículos en una nueva tienda\n",
    "nuevos_articulos = [{'bicicletas': 20, 'pantalones': 30, 'relojes': 35, 'anteojos': 4}]\n",
    "\n",
    "# Se crea un nuevo dataframe con los nuevos artículos y se le proporciona un índice con la etiqueta tienda 3\n",
    "nueva_tienda = pd.DataFrame(nuevos_articulos, index = ['tienda 3'])\n",
    "\n",
    "# Se despliegan los artículos de la nueva tienda\n",
    "nueva_tienda"
   ]
  },
  {
   "cell_type": "code",
   "execution_count": null,
   "metadata": {},
   "outputs": [],
   "source": [
    "# Se agrega la tienda 3 al dataframe articulos_en_tienda\n",
    "articulos_en_tienda = articulos_en_tienda.append(nueva_tienda)\n",
    "\n",
    "# We display the modified DataFrame\n",
    "articulos_en_tienda"
   ]
  },
  {
   "cell_type": "markdown",
   "metadata": {},
   "source": [
    "### Borrar dentro de un dataframe pandas"
   ]
  },
  {
   "cell_type": "code",
   "execution_count": null,
   "metadata": {},
   "outputs": [],
   "source": [
    "# Se borra la columna de relojes\n",
    "articulos_en_tienda = articulos_en_tienda.drop(['relojes'], axis = 1)\n",
    "\n",
    "# Se despliega el dataframe modificado\n",
    "articulos_en_tienda"
   ]
  },
  {
   "cell_type": "code",
   "execution_count": null,
   "metadata": {},
   "outputs": [],
   "source": [
    "# Se borran los renglones de las tiendas 2 y 1\n",
    "articulos_en_tienda = articulos_en_tienda.drop(['tienda 2', 'tienda 1'], axis = 0)\n",
    "\n",
    "# Se despliega el dataframe modificado\n",
    "articulos_en_tienda"
   ]
  },
  {
   "cell_type": "code",
   "execution_count": null,
   "metadata": {},
   "outputs": [],
   "source": []
  }
 ],
 "metadata": {
  "kernelspec": {
   "display_name": "Python 3",
   "language": "python",
   "name": "python3"
  },
  "language_info": {
   "codemirror_mode": {
    "name": "ipython",
    "version": 3
   },
   "file_extension": ".py",
   "mimetype": "text/x-python",
   "name": "python",
   "nbconvert_exporter": "python",
   "pygments_lexer": "ipython3",
   "version": "3.7.6"
  }
 },
 "nbformat": 4,
 "nbformat_minor": 4
}
